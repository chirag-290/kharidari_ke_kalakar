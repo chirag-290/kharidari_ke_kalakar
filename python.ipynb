{
 "cells": [
  {
   "cell_type": "code",
   "execution_count": null,
   "metadata": {},
   "outputs": [],
   "source": [
    "import os\n",
    "from google.cloud import vision\n",
    "\n",
    "os.environ['GOOGLE_APPLICATION_CREDENTIALS'] = \"shopcluehacathhon-b0de7ac55a8c.json\"\n",
    "\n",
    "def detect_labels(path):\n",
    "    \"\"\"Detects labels in the file.\"\"\"\n",
    "    \n",
    "    client = vision.ImageAnnotatorClient()\n",
    "\n",
    "    with open(path, \"rb\") as image_file:\n",
    "        content = image_file.read()\n",
    "\n",
    "    image = vision.Image(content=content)\n",
    "\n",
    "    response = client.label_detection(image=image)\n",
    "    labels = response.label_annotations\n",
    "    print(\"Labels:\")\n",
    "\n",
    "    for label in labels:\n",
    "        print(label.description)\n",
    "\n",
    "    if response.error.message:\n",
    "        raise Exception(\n",
    "            f\"{response.error.message}\\nFor more info on error messages, check: https://cloud.google.com/apis/design/errors\"\n",
    "        )\n",
    "\n",
    "detect_labels(\"womensjeans-2048px-04346.webp\")\n",
    "# Changes made:"
   ]
  }
 ],
 "metadata": {
  "language_info": {
   "name": "python"
  }
 },
 "nbformat": 4,
 "nbformat_minor": 2
}
